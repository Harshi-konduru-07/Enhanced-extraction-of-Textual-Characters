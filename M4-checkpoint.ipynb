{
 "cells": [
  {
   "cell_type": "code",
   "execution_count": null,
   "id": "28b74fca",
   "metadata": {},
   "outputs": [],
   "source": []
  },
  {
   "cell_type": "code",
   "execution_count": null,
   "id": "d751ecf7",
   "metadata": {},
   "outputs": [
    {
     "name": "stderr",
     "output_type": "stream",
     "text": [
      "C:\\Users\\KAAD\\.conda\\envs\\project\\lib\\site-packages\\tqdm\\auto.py:21: TqdmWarning: IProgress not found. Please update jupyter and ipywidgets. See https://ipywidgets.readthedocs.io/en/stable/user_install.html\n",
      "  from .autonotebook import tqdm as notebook_tqdm\n",
      "Using CPU. Note: This module is much faster with a GPU.\n"
     ]
    },
    {
     "name": "stdout",
     "output_type": "stream",
     "text": [
      " NLOAD CQMMAND: pip install keras =2.6.0 2. pip install tensorflow =2.6.0 3. pip install Django=3.2.6 pip install opencv-python==4.6.0.66 5.0 pip install nllk PROJECTTTLE SomiWaRE RCODE DETECTION ANACONDA INTRUSION NAVIQATOR ,\n"
     ]
    }
   ],
   "source": [
    "import cv2\n",
    "import easyocr\n",
    "\n",
    "reader=easyocr.Reader(['en'], gpu=False)\n",
    "\n",
    "# CAMERA can be 0 or 1 based on default camera of your computer.\n",
    "camera = cv2.VideoCapture(0)\n",
    "camera.set(cv2.CAP_PROP_BUFFERSIZE, 1)\n",
    "text=False\n",
    "\n",
    "\n",
    "while True:\n",
    "    # Grab the webcameras image.\n",
    "    ret, img = camera.read()\n",
    "    # Resize the raw image into (224-height,224-width) pixels.\n",
    "    image = cv2.resize(img, (224, 224), interpolation=cv2.INTER_AREA)\n",
    "\n",
    "    \n",
    "    if text==True:\n",
    "        try:\n",
    "            result=reader.readtext(img)\n",
    "\n",
    "            text=''\n",
    "            for detection in result:\n",
    "                top_left=tuple([int(val) for val in detection[0][0]])\n",
    "                bottom_right=tuple([int(val) for val in detection[0][2]])\n",
    "                text1=detection[1]\n",
    "                text1=str.lower(text1)\n",
    "                font=cv2.FONT_HERSHEY_SIMPLEX\n",
    "                img=cv2.rectangle(img, top_left, bottom_right, (0,255,0), 5)\n",
    "                img=cv2.putText(img, text1, top_left,font, 0.5, (255,255,255),2, cv2.LINE_AA)\n",
    "                text=text+' '+detection[1]\n",
    "            import pyttsx3\n",
    "            print(text)\n",
    "            engine = pyttsx3.init()\n",
    "            engine.setProperty('rate', 130)\n",
    "            engine.say(text)\n",
    "            engine.runAndWait()\n",
    "\n",
    "        except:\n",
    "            pass\n",
    "    \n",
    "    if text==False:\n",
    "        pass\n",
    "    \n",
    "     \n",
    "    cv2.imshow('video', img)    \n",
    "\n",
    "    # Listen to the keyboard for presses.\n",
    "    keyboard_input = cv2.waitKey(1)\n",
    "    # 27 is the ASCII for the esc key on your keyboard.\n",
    "    if keyboard_input == 27:\n",
    "        break\n",
    "    if keyboard_input == ord('t'):\n",
    "        text=True\n",
    "\n",
    "camera.release()\n",
    "cv2.destroyAllWindows()"
   ]
  },
  {
   "cell_type": "code",
   "execution_count": null,
   "id": "4c368832",
   "metadata": {},
   "outputs": [],
   "source": []
  }
 ],
 "metadata": {
  "kernelspec": {
   "display_name": "Python 3 (ipykernel)",
   "language": "python",
   "name": "python3"
  },
  "language_info": {
   "codemirror_mode": {
    "name": "ipython",
    "version": 3
   },
   "file_extension": ".py",
   "mimetype": "text/x-python",
   "name": "python",
   "nbconvert_exporter": "python",
   "pygments_lexer": "ipython3",
   "version": "3.9.16"
  }
 },
 "nbformat": 4,
 "nbformat_minor": 5
}
