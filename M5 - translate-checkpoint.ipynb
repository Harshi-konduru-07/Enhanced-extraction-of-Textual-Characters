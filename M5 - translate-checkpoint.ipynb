{
 "cells": [
  {
   "cell_type": "markdown",
   "id": "652e7900",
   "metadata": {},
   "source": [
    "# Other Language to English Text Translation"
   ]
  },
  {
   "cell_type": "code",
   "execution_count": 1,
   "id": "9ab62e4a",
   "metadata": {},
   "outputs": [
    {
     "name": "stdout",
     "output_type": "stream",
     "text": [
      "Enter the text : इस पृष्ठ पर इन्टरनेट पर उपलब्ध विभिन्न हिन्दी एवं देवनागरी सम्बंधित साधनों की कड़ियों की सूची है। इसमें ऑनलाइन एवं ऑफ़लाइन उपकरण (टूल्स) शामिल हैं।\n",
      "This page on the internet is a list of links to various resources related to Hindi and the Devanagari. This includes online and offline tools.\n",
      "Enter the text : STOP\n"
     ]
    }
   ],
   "source": [
    "import pyttsx3\n",
    "from googletrans import Translator\n",
    "\n",
    "translator = Translator()\n",
    "\n",
    "while True:\n",
    "    sent = str(input(\"Enter the text : \"))\n",
    "    sent = sent.lower()\n",
    "    if sent == 'stop':\n",
    "        break\n",
    "    else:      \n",
    "        out = translator.translate(sent, dest='EN')\n",
    "        val = out.text\n",
    "        print(val)\n",
    "        engine = pyttsx3.init()\n",
    "        engine.setProperty('rate', 130)\n",
    "        engine.say(val)\n",
    "        engine.runAndWait()"
   ]
  },
  {
   "cell_type": "markdown",
   "id": "b6f7f698",
   "metadata": {},
   "source": [
    "# English to Tamil Translate"
   ]
  },
  {
   "cell_type": "code",
   "execution_count": null,
   "id": "3450bcbb",
   "metadata": {},
   "outputs": [
    {
     "name": "stdout",
     "output_type": "stream",
     "text": [
      "Enter the text : These are short, famous texts in English from classic sources like the Bible or Shakespeare. Some texts have word definitions and explanations to help you. Some of these texts are written in an old style of English. \n",
      "இவை பைபிள் அல்லது ஷேக்ஸ்பியர் போன்ற உன்னதமான மூலங்களிலிருந்து ஆங்கிலத்தில் உள்ள குறுகிய, பிரபலமான நூல்கள். சில உரைகளில் உங்களுக்கு உதவ வார்த்தை வரையறைகள் மற்றும் விளக்கங்கள் உள்ளன. இந்த நூல்களில் சில பழைய ஆங்கில பாணியில் எழுதப்பட்டுள்ளன.\n"
     ]
    }
   ],
   "source": [
    "from googletrans import Translator\n",
    "\n",
    "translator = Translator()\n",
    "\n",
    "while True:\n",
    "    sent = str(input(\"Enter the text : \"))\n",
    "    sent = sent.lower()\n",
    "    if sent == 'stop':\n",
    "        break\n",
    "    else:      \n",
    "        out = translator.translate(sent, dest='ta')\n",
    "        val = out.text\n",
    "        print(val)"
   ]
  },
  {
   "cell_type": "code",
   "execution_count": null,
   "id": "40fb3957",
   "metadata": {},
   "outputs": [],
   "source": []
  },
  {
   "cell_type": "code",
   "execution_count": null,
   "id": "a0cbe219",
   "metadata": {},
   "outputs": [],
   "source": []
  },
  {
   "cell_type": "code",
   "execution_count": null,
   "id": "26f9e2f2",
   "metadata": {},
   "outputs": [],
   "source": []
  }
 ],
 "metadata": {
  "kernelspec": {
   "display_name": "Python 3 (ipykernel)",
   "language": "python",
   "name": "python3"
  },
  "language_info": {
   "codemirror_mode": {
    "name": "ipython",
    "version": 3
   },
   "file_extension": ".py",
   "mimetype": "text/x-python",
   "name": "python",
   "nbconvert_exporter": "python",
   "pygments_lexer": "ipython3",
   "version": "3.9.16"
  }
 },
 "nbformat": 4,
 "nbformat_minor": 5
}
