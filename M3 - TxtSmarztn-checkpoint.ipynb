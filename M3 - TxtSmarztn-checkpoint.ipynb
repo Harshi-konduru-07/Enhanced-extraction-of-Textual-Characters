{
 "cells": [
  {
   "cell_type": "markdown",
   "id": "f72ab77e",
   "metadata": {},
   "source": [
    "### Importing warnings for ignoring any warnings."
   ]
  },
  {
   "cell_type": "code",
   "execution_count": 1,
   "id": "c2517308",
   "metadata": {},
   "outputs": [],
   "source": [
    "import warnings\n",
    "warnings.filterwarnings('ignore')"
   ]
  },
  {
   "cell_type": "markdown",
   "id": "12712db8",
   "metadata": {},
   "source": [
    "## Importing Packages for text Summarization"
   ]
  },
  {
   "cell_type": "code",
   "execution_count": 2,
   "id": "7037cbe1",
   "metadata": {},
   "outputs": [],
   "source": [
    "#!pip install -U spacy "
   ]
  },
  {
   "cell_type": "markdown",
   "id": "c2168905",
   "metadata": {},
   "source": [
    "#### SpaCy is used for Natural language Processing"
   ]
  },
  {
   "cell_type": "code",
   "execution_count": 3,
   "id": "16e0e759",
   "metadata": {},
   "outputs": [],
   "source": [
    "import spacy"
   ]
  },
  {
   "cell_type": "markdown",
   "id": "bfe958c8",
   "metadata": {},
   "source": [
    "#### STOP_WORDS is a set of default stop words for English language model in SpaCy."
   ]
  },
  {
   "cell_type": "code",
   "execution_count": 4,
   "id": "1b4c44da",
   "metadata": {},
   "outputs": [],
   "source": [
    "from spacy.lang.en.stop_words import STOP_WORDS\n",
    "from string import punctuation"
   ]
  },
  {
   "cell_type": "markdown",
   "id": "07fc532b",
   "metadata": {},
   "source": [
    "#### Downloading en_core_web_sm, this will return a language object nlp containing all components and data needed to process text."
   ]
  },
  {
   "cell_type": "code",
   "execution_count": 5,
   "id": "344e863b",
   "metadata": {
    "scrolled": true
   },
   "outputs": [],
   "source": [
    "#!python -m spacy download en_core_web_sm"
   ]
  },
  {
   "cell_type": "markdown",
   "id": "701eff62",
   "metadata": {},
   "source": [
    "#### Loading STOP_WORDS into stopwords"
   ]
  },
  {
   "cell_type": "code",
   "execution_count": 6,
   "id": "0ad5e26a",
   "metadata": {},
   "outputs": [],
   "source": [
    "stopwords=list(STOP_WORDS)"
   ]
  },
  {
   "cell_type": "markdown",
   "id": "7c76c284",
   "metadata": {},
   "source": [
    "#### This will return a language object nlp containing all components and data needed to process text."
   ]
  },
  {
   "cell_type": "code",
   "execution_count": 7,
   "id": "46f9e05f",
   "metadata": {},
   "outputs": [],
   "source": [
    "nlp=spacy.load(\"en_core_web_sm\")"
   ]
  },
  {
   "cell_type": "markdown",
   "id": "d8737bfc",
   "metadata": {},
   "source": [
    "#### Copy and Paste The Text For Summarization"
   ]
  },
  {
   "cell_type": "code",
   "execution_count": 8,
   "id": "66702e41",
   "metadata": {},
   "outputs": [
    {
     "name": "stdout",
     "output_type": "stream",
     "text": [
      "Adolf Hitler (German: [ˈadɔlf ˈhɪtlɐ] (listen); 20 April 1889 – 30 April 1945) was an Austrian-born German politician who was the dictator of Germany from 1933 until his suicide in 1945. He rose to power as the leader of the Nazi Party,[a] becoming the chancellor in 1933 and then taking the title of Führer und Reichskanzler in 1934.[b] During his dictatorship, he initiated World War II in Europe by invading Poland on 1 September 1939. He was closely involved in military operations throughout the war and was central to the perpetration of the Holocaust: the genocide of about six million Jews and millions of other victims.  Hitler was born in Braunau am Inn in Austria-Hungary and was raised near Linz. He lived in Vienna later in the first decade of the 1900s and moved to Germany in 1913. He was decorated during his service in the German Army in World War I. In 1919, he joined the German Workers' Party (DAP), the precursor of the Nazi Party, and was appointed leader of the Nazi Party in 1921. In 1923, he attempted to seize governmental power in a failed coup in Munich and was imprisoned with a sentence of five years. In jail, he dictated the first volume of his autobiography and political manifesto Mein Kampf (\"My Struggle\"). After his early release in 1924, Hitler gained popular support by attacking the Treaty of Versailles and promoting pan-Germanism, anti-Semitism and anti-communism with charismatic oratory and Nazi propaganda. He frequently denounced international capitalism and communism as part of a Jewish conspiracy.  By November 1932, the Nazi Party held the most seats in the German Reichstag but did not have a majority. As a result, no party was able to form a majority parliamentary coalition in support of a candidate for chancellor. The former chancellor Franz von Papen and other conservative leaders persuaded President Paul von Hindenburg to appoint Hitler as chancellor on 30 January 1933. Shortly after, the Reichstag passed the Enabling Act of 1933 which began the process of transforming the Weimar Republic into Nazi Germany, a one-party dictatorship based on the totalitarian and autocratic ideology of Nazism. On 2 August 1934, Hindenburg died and Hitler replaced him as the head of state and government. Hitler aimed to eliminate Jews from Germany and establish a New Order to counter what he saw as the injustice of the post-World War I international order dominated by Britain and France. His first six years in power resulted in rapid economic recovery from the Great Depression, the abrogation of restrictions imposed on Germany after World War I, and the annexation of territories inhabited by millions of ethnic Germans, which initially gave him significant popular support.  Hitler sought Lebensraum (lit. 'living space') for the German people in Eastern Europe, and his aggressive foreign policy is considered the primary cause of World War II in Europe. He directed large-scale rearmament and, on 1 September 1939, invaded Poland, resulting in Britain and France declaring war on Germany. In June 1941, Hitler ordered an invasion of the Soviet Union. In December 1941, he declared war on the United States. By the end of 1941, German forces and the European Axis powers occupied most of Europe and North Africa. These gains were gradually reversed after 1941, and in 1945 the Allied armies defeated the German army. On 29 April 1945, he married his longtime lover, Eva Braun, in the Führerbunker in Berlin. Less than two days later, the couple committed suicide to avoid capture by the Soviet Red Army. Their corpses were burned as Hitler had commanded.\n"
     ]
    }
   ],
   "source": [
    "text=input(\"\"\"\"\"\")"
   ]
  },
  {
   "cell_type": "markdown",
   "id": "45b200cc",
   "metadata": {},
   "source": [
    "#### By calling the nlp object on a string of text will return a processed doc"
   ]
  },
  {
   "cell_type": "code",
   "execution_count": 9,
   "id": "1ec9cdec",
   "metadata": {},
   "outputs": [],
   "source": [
    "doc=nlp(text)"
   ]
  },
  {
   "cell_type": "markdown",
   "id": "00c25ebc",
   "metadata": {},
   "source": [
    "#### First we need to tokenize the the segments that is word tokenizing"
   ]
  },
  {
   "cell_type": "code",
   "execution_count": 10,
   "id": "0909efc4",
   "metadata": {},
   "outputs": [],
   "source": [
    "tokens = [token.text for token in doc]"
   ]
  },
  {
   "cell_type": "code",
   "execution_count": 11,
   "id": "2690bfe8",
   "metadata": {
    "scrolled": true
   },
   "outputs": [
    {
     "name": "stdout",
     "output_type": "stream",
     "text": [
      "['Adolf', 'Hitler', '(', 'German', ':', '[', 'ˈadɔlf', 'ˈhɪtlɐ', ']', '(', 'listen', ')', ';', '20', 'April', '1889', '–', '30', 'April', '1945', ')', 'was', 'an', 'Austrian', '-', 'born', 'German', 'politician', 'who', 'was', 'the', 'dictator', 'of', 'Germany', 'from', '1933', 'until', 'his', 'suicide', 'in', '1945', '.', 'He', 'rose', 'to', 'power', 'as', 'the', 'leader', 'of', 'the', 'Nazi', 'Party,[a', ']', 'becoming', 'the', 'chancellor', 'in', '1933', 'and', 'then', 'taking', 'the', 'title', 'of', 'Führer', 'und', 'Reichskanzler', 'in', '1934.[b', ']', 'During', 'his', 'dictatorship', ',', 'he', 'initiated', 'World', 'War', 'II', 'in', 'Europe', 'by', 'invading', 'Poland', 'on', '1', 'September', '1939', '.', 'He', 'was', 'closely', 'involved', 'in', 'military', 'operations', 'throughout', 'the', 'war', 'and', 'was', 'central', 'to', 'the', 'perpetration', 'of', 'the', 'Holocaust', ':', 'the', 'genocide', 'of', 'about', 'six', 'million', 'Jews', 'and', 'millions', 'of', 'other', 'victims', '.', ' ', 'Hitler', 'was', 'born', 'in', 'Braunau', 'am', 'Inn', 'in', 'Austria', '-', 'Hungary', 'and', 'was', 'raised', 'near', 'Linz', '.', 'He', 'lived', 'in', 'Vienna', 'later', 'in', 'the', 'first', 'decade', 'of', 'the', '1900s', 'and', 'moved', 'to', 'Germany', 'in', '1913', '.', 'He', 'was', 'decorated', 'during', 'his', 'service', 'in', 'the', 'German', 'Army', 'in', 'World', 'War', 'I.', 'In', '1919', ',', 'he', 'joined', 'the', 'German', 'Workers', \"'\", 'Party', '(', 'DAP', ')', ',', 'the', 'precursor', 'of', 'the', 'Nazi', 'Party', ',', 'and', 'was', 'appointed', 'leader', 'of', 'the', 'Nazi', 'Party', 'in', '1921', '.', 'In', '1923', ',', 'he', 'attempted', 'to', 'seize', 'governmental', 'power', 'in', 'a', 'failed', 'coup', 'in', 'Munich', 'and', 'was', 'imprisoned', 'with', 'a', 'sentence', 'of', 'five', 'years', '.', 'In', 'jail', ',', 'he', 'dictated', 'the', 'first', 'volume', 'of', 'his', 'autobiography', 'and', 'political', 'manifesto', 'Mein', 'Kampf', '(', '\"', 'My', 'Struggle', '\"', ')', '.', 'After', 'his', 'early', 'release', 'in', '1924', ',', 'Hitler', 'gained', 'popular', 'support', 'by', 'attacking', 'the', 'Treaty', 'of', 'Versailles', 'and', 'promoting', 'pan', '-', 'Germanism', ',', 'anti', '-', 'Semitism', 'and', 'anti', '-', 'communism', 'with', 'charismatic', 'oratory', 'and', 'Nazi', 'propaganda', '.', 'He', 'frequently', 'denounced', 'international', 'capitalism', 'and', 'communism', 'as', 'part', 'of', 'a', 'Jewish', 'conspiracy', '.', ' ', 'By', 'November', '1932', ',', 'the', 'Nazi', 'Party', 'held', 'the', 'most', 'seats', 'in', 'the', 'German', 'Reichstag', 'but', 'did', 'not', 'have', 'a', 'majority', '.', 'As', 'a', 'result', ',', 'no', 'party', 'was', 'able', 'to', 'form', 'a', 'majority', 'parliamentary', 'coalition', 'in', 'support', 'of', 'a', 'candidate', 'for', 'chancellor', '.', 'The', 'former', 'chancellor', 'Franz', 'von', 'Papen', 'and', 'other', 'conservative', 'leaders', 'persuaded', 'President', 'Paul', 'von', 'Hindenburg', 'to', 'appoint', 'Hitler', 'as', 'chancellor', 'on', '30', 'January', '1933', '.', 'Shortly', 'after', ',', 'the', 'Reichstag', 'passed', 'the', 'Enabling', 'Act', 'of', '1933', 'which', 'began', 'the', 'process', 'of', 'transforming', 'the', 'Weimar', 'Republic', 'into', 'Nazi', 'Germany', ',', 'a', 'one', '-', 'party', 'dictatorship', 'based', 'on', 'the', 'totalitarian', 'and', 'autocratic', 'ideology', 'of', 'Nazism', '.', 'On', '2', 'August', '1934', ',', 'Hindenburg', 'died', 'and', 'Hitler', 'replaced', 'him', 'as', 'the', 'head', 'of', 'state', 'and', 'government', '.', 'Hitler', 'aimed', 'to', 'eliminate', 'Jews', 'from', 'Germany', 'and', 'establish', 'a', 'New', 'Order', 'to', 'counter', 'what', 'he', 'saw', 'as', 'the', 'injustice', 'of', 'the', 'post', '-', 'World', 'War', 'I', 'international', 'order', 'dominated', 'by', 'Britain', 'and', 'France', '.', 'His', 'first', 'six', 'years', 'in', 'power', 'resulted', 'in', 'rapid', 'economic', 'recovery', 'from', 'the', 'Great', 'Depression', ',', 'the', 'abrogation', 'of', 'restrictions', 'imposed', 'on', 'Germany', 'after', 'World', 'War', 'I', ',', 'and', 'the', 'annexation', 'of', 'territories', 'inhabited', 'by', 'millions', 'of', 'ethnic', 'Germans', ',', 'which', 'initially', 'gave', 'him', 'significant', 'popular', 'support', '.', ' ', 'Hitler', 'sought', 'Lebensraum', '(', 'lit', '.', '\\u2009', \"'\", 'living', 'space', \"'\", ')', 'for', 'the', 'German', 'people', 'in', 'Eastern', 'Europe', ',', 'and', 'his', 'aggressive', 'foreign', 'policy', 'is', 'considered', 'the', 'primary', 'cause', 'of', 'World', 'War', 'II', 'in', 'Europe', '.', 'He', 'directed', 'large', '-', 'scale', 'rearmament', 'and', ',', 'on', '1', 'September', '1939', ',', 'invaded', 'Poland', ',', 'resulting', 'in', 'Britain', 'and', 'France', 'declaring', 'war', 'on', 'Germany', '.', 'In', 'June', '1941', ',', 'Hitler', 'ordered', 'an', 'invasion', 'of', 'the', 'Soviet', 'Union', '.', 'In', 'December', '1941', ',', 'he', 'declared', 'war', 'on', 'the', 'United', 'States', '.', 'By', 'the', 'end', 'of', '1941', ',', 'German', 'forces', 'and', 'the', 'European', 'Axis', 'powers', 'occupied', 'most', 'of', 'Europe', 'and', 'North', 'Africa', '.', 'These', 'gains', 'were', 'gradually', 'reversed', 'after', '1941', ',', 'and', 'in', '1945', 'the', 'Allied', 'armies', 'defeated', 'the', 'German', 'army', '.', 'On', '29', 'April', '1945', ',', 'he', 'married', 'his', 'longtime', 'lover', ',', 'Eva', 'Braun', ',', 'in', 'the', 'Führerbunker', 'in', 'Berlin', '.', 'Less', 'than', 'two', 'days', 'later', ',', 'the', 'couple', 'committed', 'suicide', 'to', 'avoid', 'capture', 'by', 'the', 'Soviet', 'Red', 'Army', '.', 'Their', 'corpses', 'were', 'burned', 'as', 'Hitler', 'had', 'commanded', '.']\n"
     ]
    }
   ],
   "source": [
    "print(tokens)"
   ]
  },
  {
   "cell_type": "markdown",
   "id": "29e0a1fe",
   "metadata": {},
   "source": [
    "#### Dumping punctuations in a variable from a punctuation package"
   ]
  },
  {
   "cell_type": "code",
   "execution_count": 12,
   "id": "288e1446",
   "metadata": {},
   "outputs": [
    {
     "data": {
      "text/plain": [
       "'!\"#$%&\\'()*+,-./:;<=>?@[\\\\]^_`{|}~\\n'"
      ]
     },
     "execution_count": 12,
     "metadata": {},
     "output_type": "execute_result"
    }
   ],
   "source": [
    "punctuation = punctuation + '\\n'\n",
    "punctuation"
   ]
  },
  {
   "cell_type": "markdown",
   "id": "8b997771",
   "metadata": {},
   "source": [
    "#### Here we do "
   ]
  },
  {
   "cell_type": "code",
   "execution_count": 13,
   "id": "d79f40e0",
   "metadata": {},
   "outputs": [
    {
     "name": "stdout",
     "output_type": "stream",
     "text": [
      "{'Adolf': 1, 'Hitler': 9, 'German': 8, 'ˈadɔlf': 1, 'ˈhɪtlɐ': 1, 'listen': 1, '20': 1, 'April': 3, '1889': 1, '–': 1, '30': 2, '1945': 4, 'Austrian': 1, 'born': 2, 'politician': 1, 'dictator': 1, 'Germany': 6, '1933': 4, 'suicide': 2, 'rose': 1, 'power': 3, 'leader': 2, 'Nazi': 6, 'Party,[a': 1, 'chancellor': 4, 'taking': 1, 'title': 1, 'Führer': 1, 'und': 1, 'Reichskanzler': 1, '1934.[b': 1, 'dictatorship': 2, 'initiated': 1, 'World': 5, 'War': 5, 'II': 2, 'Europe': 4, 'invading': 1, 'Poland': 2, '1': 2, 'September': 2, '1939': 2, 'closely': 1, 'involved': 1, 'military': 1, 'operations': 1, 'war': 3, 'central': 1, 'perpetration': 1, 'Holocaust': 1, 'genocide': 1, 'million': 1, 'Jews': 2, 'millions': 2, 'victims': 1, ' ': 3, 'Braunau': 1, 'Inn': 1, 'Austria': 1, 'Hungary': 1, 'raised': 1, 'near': 1, 'Linz': 1, 'lived': 1, 'Vienna': 1, 'later': 2, 'decade': 1, '1900s': 1, 'moved': 1, '1913': 1, 'decorated': 1, 'service': 1, 'Army': 2, 'I.': 1, '1919': 1, 'joined': 1, 'Workers': 1, 'Party': 4, 'DAP': 1, 'precursor': 1, 'appointed': 1, '1921': 1, '1923': 1, 'attempted': 1, 'seize': 1, 'governmental': 1, 'failed': 1, 'coup': 1, 'Munich': 1, 'imprisoned': 1, 'sentence': 1, 'years': 2, 'jail': 1, 'dictated': 1, 'volume': 1, 'autobiography': 1, 'political': 1, 'manifesto': 1, 'Mein': 1, 'Kampf': 1, 'Struggle': 1, 'early': 1, 'release': 1, '1924': 1, 'gained': 1, 'popular': 2, 'support': 3, 'attacking': 1, 'Treaty': 1, 'Versailles': 1, 'promoting': 1, 'pan': 1, 'Germanism': 1, 'anti': 2, 'Semitism': 1, 'communism': 2, 'charismatic': 1, 'oratory': 1, 'propaganda': 1, 'frequently': 1, 'denounced': 1, 'international': 2, 'capitalism': 1, 'Jewish': 1, 'conspiracy': 1, 'November': 1, '1932': 1, 'held': 1, 'seats': 1, 'Reichstag': 2, 'majority': 2, 'result': 1, 'party': 2, 'able': 1, 'form': 1, 'parliamentary': 1, 'coalition': 1, 'candidate': 1, 'Franz': 1, 'von': 2, 'Papen': 1, 'conservative': 1, 'leaders': 1, 'persuaded': 1, 'President': 1, 'Paul': 1, 'Hindenburg': 2, 'appoint': 1, 'January': 1, 'Shortly': 1, 'passed': 1, 'Enabling': 1, 'Act': 1, 'began': 1, 'process': 1, 'transforming': 1, 'Weimar': 1, 'Republic': 1, 'based': 1, 'totalitarian': 1, 'autocratic': 1, 'ideology': 1, 'Nazism': 1, '2': 1, 'August': 1, '1934': 1, 'died': 1, 'replaced': 1, 'head': 1, 'state': 1, 'government': 1, 'aimed': 1, 'eliminate': 1, 'establish': 1, 'New': 1, 'Order': 1, 'counter': 1, 'saw': 1, 'injustice': 1, 'post': 1, 'order': 1, 'dominated': 1, 'Britain': 2, 'France': 2, 'resulted': 1, 'rapid': 1, 'economic': 1, 'recovery': 1, 'Great': 1, 'Depression': 1, 'abrogation': 1, 'restrictions': 1, 'imposed': 1, 'annexation': 1, 'territories': 1, 'inhabited': 1, 'ethnic': 1, 'Germans': 1, 'initially': 1, 'gave': 1, 'significant': 1, 'sought': 1, 'Lebensraum': 1, 'lit': 1, '\\u2009': 1, 'living': 1, 'space': 1, 'people': 1, 'Eastern': 1, 'aggressive': 1, 'foreign': 1, 'policy': 1, 'considered': 1, 'primary': 1, 'cause': 1, 'directed': 1, 'large': 1, 'scale': 1, 'rearmament': 1, 'invaded': 1, 'resulting': 1, 'declaring': 1, 'June': 1, '1941': 4, 'ordered': 1, 'invasion': 1, 'Soviet': 2, 'Union': 1, 'December': 1, 'declared': 1, 'United': 1, 'States': 1, 'end': 1, 'forces': 1, 'European': 1, 'Axis': 1, 'powers': 1, 'occupied': 1, 'North': 1, 'Africa': 1, 'gains': 1, 'gradually': 1, 'reversed': 1, 'Allied': 1, 'armies': 1, 'defeated': 1, 'army': 1, '29': 1, 'married': 1, 'longtime': 1, 'lover': 1, 'Eva': 1, 'Braun': 1, 'Führerbunker': 1, 'Berlin': 1, 'days': 1, 'couple': 1, 'committed': 1, 'avoid': 1, 'capture': 1, 'Red': 1, 'corpses': 1, 'burned': 1, 'commanded': 1}\n"
     ]
    }
   ],
   "source": [
    "word_frequencies = {}\n",
    "for word in doc:\n",
    "    if word.text.lower() not in stopwords:\n",
    "        if word.text.lower() not in punctuation:\n",
    "            if word.text not in word_frequencies.keys():\n",
    "                word_frequencies[word.text] = 1\n",
    "            else:\n",
    "                word_frequencies[word.text] += 1\n",
    "                \n",
    "print(word_frequencies)"
   ]
  },
  {
   "cell_type": "code",
   "execution_count": 14,
   "id": "dafbffc8",
   "metadata": {},
   "outputs": [
    {
     "data": {
      "text/plain": [
       "9"
      ]
     },
     "execution_count": 14,
     "metadata": {},
     "output_type": "execute_result"
    }
   ],
   "source": [
    "max_frequency = max(word_frequencies.values())\n",
    "max_frequency"
   ]
  },
  {
   "cell_type": "code",
   "execution_count": 15,
   "id": "f5986274",
   "metadata": {},
   "outputs": [
    {
     "name": "stdout",
     "output_type": "stream",
     "text": [
      "{'Adolf': 0.1111111111111111, 'Hitler': 1.0, 'German': 0.8888888888888888, 'ˈadɔlf': 0.1111111111111111, 'ˈhɪtlɐ': 0.1111111111111111, 'listen': 0.1111111111111111, '20': 0.1111111111111111, 'April': 0.3333333333333333, '1889': 0.1111111111111111, '–': 0.1111111111111111, '30': 0.2222222222222222, '1945': 0.4444444444444444, 'Austrian': 0.1111111111111111, 'born': 0.2222222222222222, 'politician': 0.1111111111111111, 'dictator': 0.1111111111111111, 'Germany': 0.6666666666666666, '1933': 0.4444444444444444, 'suicide': 0.2222222222222222, 'rose': 0.1111111111111111, 'power': 0.3333333333333333, 'leader': 0.2222222222222222, 'Nazi': 0.6666666666666666, 'Party,[a': 0.1111111111111111, 'chancellor': 0.4444444444444444, 'taking': 0.1111111111111111, 'title': 0.1111111111111111, 'Führer': 0.1111111111111111, 'und': 0.1111111111111111, 'Reichskanzler': 0.1111111111111111, '1934.[b': 0.1111111111111111, 'dictatorship': 0.2222222222222222, 'initiated': 0.1111111111111111, 'World': 0.5555555555555556, 'War': 0.5555555555555556, 'II': 0.2222222222222222, 'Europe': 0.4444444444444444, 'invading': 0.1111111111111111, 'Poland': 0.2222222222222222, '1': 0.2222222222222222, 'September': 0.2222222222222222, '1939': 0.2222222222222222, 'closely': 0.1111111111111111, 'involved': 0.1111111111111111, 'military': 0.1111111111111111, 'operations': 0.1111111111111111, 'war': 0.3333333333333333, 'central': 0.1111111111111111, 'perpetration': 0.1111111111111111, 'Holocaust': 0.1111111111111111, 'genocide': 0.1111111111111111, 'million': 0.1111111111111111, 'Jews': 0.2222222222222222, 'millions': 0.2222222222222222, 'victims': 0.1111111111111111, ' ': 0.3333333333333333, 'Braunau': 0.1111111111111111, 'Inn': 0.1111111111111111, 'Austria': 0.1111111111111111, 'Hungary': 0.1111111111111111, 'raised': 0.1111111111111111, 'near': 0.1111111111111111, 'Linz': 0.1111111111111111, 'lived': 0.1111111111111111, 'Vienna': 0.1111111111111111, 'later': 0.2222222222222222, 'decade': 0.1111111111111111, '1900s': 0.1111111111111111, 'moved': 0.1111111111111111, '1913': 0.1111111111111111, 'decorated': 0.1111111111111111, 'service': 0.1111111111111111, 'Army': 0.2222222222222222, 'I.': 0.1111111111111111, '1919': 0.1111111111111111, 'joined': 0.1111111111111111, 'Workers': 0.1111111111111111, 'Party': 0.4444444444444444, 'DAP': 0.1111111111111111, 'precursor': 0.1111111111111111, 'appointed': 0.1111111111111111, '1921': 0.1111111111111111, '1923': 0.1111111111111111, 'attempted': 0.1111111111111111, 'seize': 0.1111111111111111, 'governmental': 0.1111111111111111, 'failed': 0.1111111111111111, 'coup': 0.1111111111111111, 'Munich': 0.1111111111111111, 'imprisoned': 0.1111111111111111, 'sentence': 0.1111111111111111, 'years': 0.2222222222222222, 'jail': 0.1111111111111111, 'dictated': 0.1111111111111111, 'volume': 0.1111111111111111, 'autobiography': 0.1111111111111111, 'political': 0.1111111111111111, 'manifesto': 0.1111111111111111, 'Mein': 0.1111111111111111, 'Kampf': 0.1111111111111111, 'Struggle': 0.1111111111111111, 'early': 0.1111111111111111, 'release': 0.1111111111111111, '1924': 0.1111111111111111, 'gained': 0.1111111111111111, 'popular': 0.2222222222222222, 'support': 0.3333333333333333, 'attacking': 0.1111111111111111, 'Treaty': 0.1111111111111111, 'Versailles': 0.1111111111111111, 'promoting': 0.1111111111111111, 'pan': 0.1111111111111111, 'Germanism': 0.1111111111111111, 'anti': 0.2222222222222222, 'Semitism': 0.1111111111111111, 'communism': 0.2222222222222222, 'charismatic': 0.1111111111111111, 'oratory': 0.1111111111111111, 'propaganda': 0.1111111111111111, 'frequently': 0.1111111111111111, 'denounced': 0.1111111111111111, 'international': 0.2222222222222222, 'capitalism': 0.1111111111111111, 'Jewish': 0.1111111111111111, 'conspiracy': 0.1111111111111111, 'November': 0.1111111111111111, '1932': 0.1111111111111111, 'held': 0.1111111111111111, 'seats': 0.1111111111111111, 'Reichstag': 0.2222222222222222, 'majority': 0.2222222222222222, 'result': 0.1111111111111111, 'party': 0.2222222222222222, 'able': 0.1111111111111111, 'form': 0.1111111111111111, 'parliamentary': 0.1111111111111111, 'coalition': 0.1111111111111111, 'candidate': 0.1111111111111111, 'Franz': 0.1111111111111111, 'von': 0.2222222222222222, 'Papen': 0.1111111111111111, 'conservative': 0.1111111111111111, 'leaders': 0.1111111111111111, 'persuaded': 0.1111111111111111, 'President': 0.1111111111111111, 'Paul': 0.1111111111111111, 'Hindenburg': 0.2222222222222222, 'appoint': 0.1111111111111111, 'January': 0.1111111111111111, 'Shortly': 0.1111111111111111, 'passed': 0.1111111111111111, 'Enabling': 0.1111111111111111, 'Act': 0.1111111111111111, 'began': 0.1111111111111111, 'process': 0.1111111111111111, 'transforming': 0.1111111111111111, 'Weimar': 0.1111111111111111, 'Republic': 0.1111111111111111, 'based': 0.1111111111111111, 'totalitarian': 0.1111111111111111, 'autocratic': 0.1111111111111111, 'ideology': 0.1111111111111111, 'Nazism': 0.1111111111111111, '2': 0.1111111111111111, 'August': 0.1111111111111111, '1934': 0.1111111111111111, 'died': 0.1111111111111111, 'replaced': 0.1111111111111111, 'head': 0.1111111111111111, 'state': 0.1111111111111111, 'government': 0.1111111111111111, 'aimed': 0.1111111111111111, 'eliminate': 0.1111111111111111, 'establish': 0.1111111111111111, 'New': 0.1111111111111111, 'Order': 0.1111111111111111, 'counter': 0.1111111111111111, 'saw': 0.1111111111111111, 'injustice': 0.1111111111111111, 'post': 0.1111111111111111, 'order': 0.1111111111111111, 'dominated': 0.1111111111111111, 'Britain': 0.2222222222222222, 'France': 0.2222222222222222, 'resulted': 0.1111111111111111, 'rapid': 0.1111111111111111, 'economic': 0.1111111111111111, 'recovery': 0.1111111111111111, 'Great': 0.1111111111111111, 'Depression': 0.1111111111111111, 'abrogation': 0.1111111111111111, 'restrictions': 0.1111111111111111, 'imposed': 0.1111111111111111, 'annexation': 0.1111111111111111, 'territories': 0.1111111111111111, 'inhabited': 0.1111111111111111, 'ethnic': 0.1111111111111111, 'Germans': 0.1111111111111111, 'initially': 0.1111111111111111, 'gave': 0.1111111111111111, 'significant': 0.1111111111111111, 'sought': 0.1111111111111111, 'Lebensraum': 0.1111111111111111, 'lit': 0.1111111111111111, '\\u2009': 0.1111111111111111, 'living': 0.1111111111111111, 'space': 0.1111111111111111, 'people': 0.1111111111111111, 'Eastern': 0.1111111111111111, 'aggressive': 0.1111111111111111, 'foreign': 0.1111111111111111, 'policy': 0.1111111111111111, 'considered': 0.1111111111111111, 'primary': 0.1111111111111111, 'cause': 0.1111111111111111, 'directed': 0.1111111111111111, 'large': 0.1111111111111111, 'scale': 0.1111111111111111, 'rearmament': 0.1111111111111111, 'invaded': 0.1111111111111111, 'resulting': 0.1111111111111111, 'declaring': 0.1111111111111111, 'June': 0.1111111111111111, '1941': 0.4444444444444444, 'ordered': 0.1111111111111111, 'invasion': 0.1111111111111111, 'Soviet': 0.2222222222222222, 'Union': 0.1111111111111111, 'December': 0.1111111111111111, 'declared': 0.1111111111111111, 'United': 0.1111111111111111, 'States': 0.1111111111111111, 'end': 0.1111111111111111, 'forces': 0.1111111111111111, 'European': 0.1111111111111111, 'Axis': 0.1111111111111111, 'powers': 0.1111111111111111, 'occupied': 0.1111111111111111, 'North': 0.1111111111111111, 'Africa': 0.1111111111111111, 'gains': 0.1111111111111111, 'gradually': 0.1111111111111111, 'reversed': 0.1111111111111111, 'Allied': 0.1111111111111111, 'armies': 0.1111111111111111, 'defeated': 0.1111111111111111, 'army': 0.1111111111111111, '29': 0.1111111111111111, 'married': 0.1111111111111111, 'longtime': 0.1111111111111111, 'lover': 0.1111111111111111, 'Eva': 0.1111111111111111, 'Braun': 0.1111111111111111, 'Führerbunker': 0.1111111111111111, 'Berlin': 0.1111111111111111, 'days': 0.1111111111111111, 'couple': 0.1111111111111111, 'committed': 0.1111111111111111, 'avoid': 0.1111111111111111, 'capture': 0.1111111111111111, 'Red': 0.1111111111111111, 'corpses': 0.1111111111111111, 'burned': 0.1111111111111111, 'commanded': 0.1111111111111111}\n"
     ]
    }
   ],
   "source": [
    "for word in word_frequencies.keys():\n",
    "    word_frequencies[word] = word_frequencies[word]/max_frequency\n",
    "\n",
    "print(word_frequencies)"
   ]
  },
  {
   "cell_type": "code",
   "execution_count": 16,
   "id": "17382a96",
   "metadata": {},
   "outputs": [
    {
     "name": "stdout",
     "output_type": "stream",
     "text": [
      "[Adolf Hitler (German: [ˈadɔlf ˈhɪtlɐ] (listen); 20 April 1889 – 30 April 1945) was an Austrian-born German politician who was the dictator of Germany from 1933 until his suicide in 1945., He rose to power as the leader of the Nazi Party,[a] becoming the chancellor in 1933 and then taking the title of Führer und Reichskanzler in 1934.[b], During his dictatorship, he initiated World War II in Europe by invading Poland on 1 September 1939., He was closely involved in military operations throughout the war and was central to the perpetration of the Holocaust: the genocide of about six million Jews and millions of other victims.  , Hitler was born in Braunau am Inn in Austria-Hungary and was raised near Linz., He lived in Vienna later in the first decade of the 1900s and moved to Germany in 1913., He was decorated during his service in the German Army in World War I. In 1919, he joined the German Workers' Party (DAP), the precursor of the Nazi Party, and was appointed leader of the Nazi Party in 1921., In 1923, he attempted to seize governmental power in a failed coup in Munich and was imprisoned with a sentence of five years., In jail, he dictated the first volume of his autobiography and political manifesto Mein Kampf (\"My Struggle\")., After his early release in 1924, Hitler gained popular support by attacking the Treaty of Versailles and promoting pan-Germanism, anti-Semitism and anti-communism with charismatic oratory and Nazi propaganda., He frequently denounced international capitalism and communism as part of a Jewish conspiracy.  , By November 1932, the Nazi Party held the most seats in the German Reichstag but did not have a majority., As a result, no party was able to form a majority parliamentary coalition in support of a candidate for chancellor., The former chancellor Franz von Papen and other conservative leaders persuaded President Paul von Hindenburg to appoint Hitler as chancellor on 30 January 1933., Shortly after, the Reichstag passed the Enabling Act of 1933 which began the process of transforming the Weimar Republic into Nazi Germany, a one-party dictatorship based on the totalitarian and autocratic ideology of Nazism., On 2 August 1934, Hindenburg died and Hitler replaced him as the head of state and government., Hitler aimed to eliminate Jews from Germany and establish a New Order to counter what he saw as the injustice of the post-World War I international order dominated by Britain and France., His first six years in power resulted in rapid economic recovery from the Great Depression, the abrogation of restrictions imposed on Germany after World War I, and the annexation of territories inhabited by millions of ethnic Germans, which initially gave him significant popular support.  , Hitler sought Lebensraum (lit. 'living space') for the German people in Eastern Europe, and his aggressive foreign policy is considered the primary cause of World War II in Europe., He directed large-scale rearmament and, on 1 September 1939, invaded Poland, resulting in Britain and France declaring war on Germany., In June 1941, Hitler ordered an invasion of the Soviet Union., In December 1941, he declared war on the United States., By the end of 1941, German forces and the European Axis powers occupied most of Europe and North Africa., These gains were gradually reversed after 1941, and in 1945 the Allied armies defeated the German army., On 29 April 1945, he married his longtime lover, Eva Braun, in the Führerbunker in Berlin., Less than two days later, the couple committed suicide to avoid capture by the Soviet Red Army., Their corpses were burned as Hitler had commanded.]\n"
     ]
    }
   ],
   "source": [
    "sentence_tokens = [sent for sent in doc.sents]\n",
    "print(sentence_tokens)"
   ]
  },
  {
   "cell_type": "code",
   "execution_count": 17,
   "id": "95ecb3df",
   "metadata": {},
   "outputs": [
    {
     "name": "stdout",
     "output_type": "stream",
     "text": [
      "sentAdolf Hitler (German: [ˈadɔlf ˈhɪtlɐ] (listen); 20 April 1889 – 30 April 1945) was an Austrian-born German politician who was the dictator of Germany from 1933 until his suicide in 1945. \n",
      "sentHe rose to power as the leader of the Nazi Party,[a] becoming the chancellor in 1933 and then taking the title of Führer und Reichskanzler in 1934.[b] \n",
      "sentDuring his dictatorship, he initiated World War II in Europe by invading Poland on 1 September 1939. \n",
      "sentHe was closely involved in military operations throughout the war and was central to the perpetration of the Holocaust: the genocide of about six million Jews and millions of other victims.   \n",
      "sentHitler was born in Braunau am Inn in Austria-Hungary and was raised near Linz. \n",
      "sentHe lived in Vienna later in the first decade of the 1900s and moved to Germany in 1913. \n",
      "sentHe was decorated during his service in the German Army in World War I. In 1919, he joined the German Workers' Party (DAP), the precursor of the Nazi Party, and was appointed leader of the Nazi Party in 1921. \n",
      "sentIn 1923, he attempted to seize governmental power in a failed coup in Munich and was imprisoned with a sentence of five years. \n",
      "sentIn jail, he dictated the first volume of his autobiography and political manifesto Mein Kampf (\"My Struggle\"). \n",
      "sentAfter his early release in 1924, Hitler gained popular support by attacking the Treaty of Versailles and promoting pan-Germanism, anti-Semitism and anti-communism with charismatic oratory and Nazi propaganda. \n",
      "sentHe frequently denounced international capitalism and communism as part of a Jewish conspiracy.   \n",
      "sentBy November 1932, the Nazi Party held the most seats in the German Reichstag but did not have a majority. \n",
      "sentAs a result, no party was able to form a majority parliamentary coalition in support of a candidate for chancellor. \n",
      "sentThe former chancellor Franz von Papen and other conservative leaders persuaded President Paul von Hindenburg to appoint Hitler as chancellor on 30 January 1933. \n",
      "sentShortly after, the Reichstag passed the Enabling Act of 1933 which began the process of transforming the Weimar Republic into Nazi Germany, a one-party dictatorship based on the totalitarian and autocratic ideology of Nazism. \n",
      "sentOn 2 August 1934, Hindenburg died and Hitler replaced him as the head of state and government. \n",
      "sentHitler aimed to eliminate Jews from Germany and establish a New Order to counter what he saw as the injustice of the post-World War I international order dominated by Britain and France. \n",
      "sentHis first six years in power resulted in rapid economic recovery from the Great Depression, the abrogation of restrictions imposed on Germany after World War I, and the annexation of territories inhabited by millions of ethnic Germans, which initially gave him significant popular support.   \n",
      "sentHitler sought Lebensraum (lit. 'living space') for the German people in Eastern Europe, and his aggressive foreign policy is considered the primary cause of World War II in Europe. \n",
      "sentHe directed large-scale rearmament and, on 1 September 1939, invaded Poland, resulting in Britain and France declaring war on Germany. \n",
      "sentIn June 1941, Hitler ordered an invasion of the Soviet Union. \n",
      "sentIn December 1941, he declared war on the United States. \n",
      "sentBy the end of 1941, German forces and the European Axis powers occupied most of Europe and North Africa. \n",
      "sentThese gains were gradually reversed after 1941, and in 1945 the Allied armies defeated the German army. \n",
      "sentOn 29 April 1945, he married his longtime lover, Eva Braun, in the Führerbunker in Berlin. \n",
      "sentLess than two days later, the couple committed suicide to avoid capture by the Soviet Red Army. \n",
      "sentTheir corpses were burned as Hitler had commanded. \n"
     ]
    },
    {
     "data": {
      "text/plain": [
       "{Adolf Hitler (German: [ˈadɔlf ˈhɪtlɐ] (listen); 20 April 1889 – 30 April 1945) was an Austrian-born German politician who was the dictator of Germany from 1933 until his suicide in 1945.: 2.8888888888888893,\n",
       " He rose to power as the leader of the Nazi Party,[a] becoming the chancellor in 1933 and then taking the title of Führer und Reichskanzler in 1934.[b]: 2.0,\n",
       " During his dictatorship, he initiated World War II in Europe by invading Poland on 1 September 1939.: 1.222222222222222,\n",
       " He was closely involved in military operations throughout the war and was central to the perpetration of the Holocaust: the genocide of about six million Jews and millions of other victims.  : 1.888888888888889,\n",
       " Hitler was born in Braunau am Inn in Austria-Hungary and was raised near Linz.: 0.4444444444444444,\n",
       " He lived in Vienna later in the first decade of the 1900s and moved to Germany in 1913.: 0.7777777777777779,\n",
       " He was decorated during his service in the German Army in World War I. In 1919, he joined the German Workers' Party (DAP), the precursor of the Nazi Party, and was appointed leader of the Nazi Party in 1921.: 2.1111111111111116,\n",
       " In 1923, he attempted to seize governmental power in a failed coup in Munich and was imprisoned with a sentence of five years.: 1.4444444444444446,\n",
       " In jail, he dictated the first volume of his autobiography and political manifesto Mein Kampf (\"My Struggle\").: 0.6666666666666667,\n",
       " After his early release in 1924, Hitler gained popular support by attacking the Treaty of Versailles and promoting pan-Germanism, anti-Semitism and anti-communism with charismatic oratory and Nazi propaganda.: 2.333333333333334,\n",
       " He frequently denounced international capitalism and communism as part of a Jewish conspiracy.  : 1.222222222222222,\n",
       " By November 1932, the Nazi Party held the most seats in the German Reichstag but did not have a majority.: 0.7777777777777778,\n",
       " As a result, no party was able to form a majority parliamentary coalition in support of a candidate for chancellor.: 1.8888888888888888,\n",
       " The former chancellor Franz von Papen and other conservative leaders persuaded President Paul von Hindenburg to appoint Hitler as chancellor on 30 January 1933.: 2.4444444444444446,\n",
       " Shortly after, the Reichstag passed the Enabling Act of 1933 which began the process of transforming the Weimar Republic into Nazi Germany, a one-party dictatorship based on the totalitarian and autocratic ideology of Nazism.: 1.7777777777777781,\n",
       " On 2 August 1934, Hindenburg died and Hitler replaced him as the head of state and government.: 0.7777777777777779,\n",
       " Hitler aimed to eliminate Jews from Germany and establish a New Order to counter what he saw as the injustice of the post-World War I international order dominated by Britain and France.: 1.666666666666667,\n",
       " His first six years in power resulted in rapid economic recovery from the Great Depression, the abrogation of restrictions imposed on Germany after World War I, and the annexation of territories inhabited by millions of ethnic Germans, which initially gave him significant popular support.  : 3.5555555555555567,\n",
       " Hitler sought Lebensraum (lit. 'living space') for the German people in Eastern Europe, and his aggressive foreign policy is considered the primary cause of World War II in Europe.: 1.666666666666667,\n",
       " He directed large-scale rearmament and, on 1 September 1939, invaded Poland, resulting in Britain and France declaring war on Germany.: 1.5555555555555556,\n",
       " In June 1941, Hitler ordered an invasion of the Soviet Union.: 0.6666666666666667,\n",
       " In December 1941, he declared war on the United States.: 0.8888888888888888,\n",
       " By the end of 1941, German forces and the European Axis powers occupied most of Europe and North Africa.: 0.8888888888888891,\n",
       " These gains were gradually reversed after 1941, and in 1945 the Allied armies defeated the German army.: 1.5555555555555556,\n",
       " On 29 April 1945, he married his longtime lover, Eva Braun, in the Führerbunker in Berlin.: 0.8888888888888891,\n",
       " Less than two days later, the couple committed suicide to avoid capture by the Soviet Red Army.: 1.1111111111111112,\n",
       " Their corpses were burned as Hitler had commanded.: 0.3333333333333333}"
      ]
     },
     "execution_count": 17,
     "metadata": {},
     "output_type": "execute_result"
    }
   ],
   "source": [
    "sentence_scores = {}\n",
    "for sent in sentence_tokens:\n",
    "    for word in sent:\n",
    "        if word.text.lower() in word_frequencies.keys():\n",
    "            if sent not in sentence_scores.keys():\n",
    "                print(f'sent{sent} ')\n",
    "                sentence_scores[sent] = word_frequencies[word.text.lower()]\n",
    "            else:\n",
    "                sentence_scores[sent] += word_frequencies[word.text.lower()]\n",
    "                \n",
    "sentence_scores"
   ]
  },
  {
   "cell_type": "code",
   "execution_count": 18,
   "id": "100cb729",
   "metadata": {},
   "outputs": [],
   "source": [
    "from heapq import nlargest"
   ]
  },
  {
   "cell_type": "code",
   "execution_count": 19,
   "id": "48a6a1dd",
   "metadata": {},
   "outputs": [],
   "source": [
    "for i in range(100,1,-1):\n",
    "    z=1/i\n",
    "    select_length = int(len(sentence_tokens)*z)\n",
    "    summary = nlargest(select_length, sentence_scores, key = sentence_scores.get)\n",
    "    final_summary = [word.text for word in summary]\n",
    "    summary = ' '.join(final_summary)\n",
    "    if len(summary)>1:\n",
    "        b=z\n",
    "        break"
   ]
  },
  {
   "cell_type": "code",
   "execution_count": 20,
   "id": "340a46d8",
   "metadata": {},
   "outputs": [],
   "source": [
    "# select_length = int(len(sentence_tokens)*b)\n",
    "select_length = int(len(sentence_tokens)*0.2)\n",
    "select_length\n",
    "summary = nlargest(select_length, sentence_scores, key = sentence_scores.get)\n",
    "final_summary = [word.text for word in summary]\n",
    "summary = ' '.join(final_summary)"
   ]
  },
  {
   "cell_type": "code",
   "execution_count": 21,
   "id": "208ef031",
   "metadata": {},
   "outputs": [
    {
     "data": {
      "text/plain": [
       "[His first six years in power resulted in rapid economic recovery from the Great Depression, the abrogation of restrictions imposed on Germany after World War I, and the annexation of territories inhabited by millions of ethnic Germans, which initially gave him significant popular support.  ,\n",
       " Adolf Hitler (German: [ˈadɔlf ˈhɪtlɐ] (listen); 20 April 1889 – 30 April 1945) was an Austrian-born German politician who was the dictator of Germany from 1933 until his suicide in 1945.,\n",
       " The former chancellor Franz von Papen and other conservative leaders persuaded President Paul von Hindenburg to appoint Hitler as chancellor on 30 January 1933.,\n",
       " After his early release in 1924, Hitler gained popular support by attacking the Treaty of Versailles and promoting pan-Germanism, anti-Semitism and anti-communism with charismatic oratory and Nazi propaganda.,\n",
       " He was decorated during his service in the German Army in World War I. In 1919, he joined the German Workers' Party (DAP), the precursor of the Nazi Party, and was appointed leader of the Nazi Party in 1921.]"
      ]
     },
     "execution_count": 21,
     "metadata": {},
     "output_type": "execute_result"
    }
   ],
   "source": [
    "summary = nlargest(select_length, sentence_scores, key = sentence_scores.get)\n",
    "summary"
   ]
  },
  {
   "cell_type": "code",
   "execution_count": 22,
   "id": "0f9e09e8",
   "metadata": {},
   "outputs": [],
   "source": [
    "final_summary = [word.text for word in summary]\n",
    "summary = ' '.join(final_summary)"
   ]
  },
  {
   "cell_type": "code",
   "execution_count": 23,
   "id": "0f848633",
   "metadata": {},
   "outputs": [
    {
     "name": "stdout",
     "output_type": "stream",
     "text": [
      "Adolf Hitler (German: [ˈadɔlf ˈhɪtlɐ] (listen); 20 April 1889 – 30 April 1945) was an Austrian-born German politician who was the dictator of Germany from 1933 until his suicide in 1945. He rose to power as the leader of the Nazi Party,[a] becoming the chancellor in 1933 and then taking the title of Führer und Reichskanzler in 1934.[b] During his dictatorship, he initiated World War II in Europe by invading Poland on 1 September 1939. He was closely involved in military operations throughout the war and was central to the perpetration of the Holocaust: the genocide of about six million Jews and millions of other victims.  Hitler was born in Braunau am Inn in Austria-Hungary and was raised near Linz. He lived in Vienna later in the first decade of the 1900s and moved to Germany in 1913. He was decorated during his service in the German Army in World War I. In 1919, he joined the German Workers' Party (DAP), the precursor of the Nazi Party, and was appointed leader of the Nazi Party in 1921. In 1923, he attempted to seize governmental power in a failed coup in Munich and was imprisoned with a sentence of five years. In jail, he dictated the first volume of his autobiography and political manifesto Mein Kampf (\"My Struggle\"). After his early release in 1924, Hitler gained popular support by attacking the Treaty of Versailles and promoting pan-Germanism, anti-Semitism and anti-communism with charismatic oratory and Nazi propaganda. He frequently denounced international capitalism and communism as part of a Jewish conspiracy.  By November 1932, the Nazi Party held the most seats in the German Reichstag but did not have a majority. As a result, no party was able to form a majority parliamentary coalition in support of a candidate for chancellor. The former chancellor Franz von Papen and other conservative leaders persuaded President Paul von Hindenburg to appoint Hitler as chancellor on 30 January 1933. Shortly after, the Reichstag passed the Enabling Act of 1933 which began the process of transforming the Weimar Republic into Nazi Germany, a one-party dictatorship based on the totalitarian and autocratic ideology of Nazism. On 2 August 1934, Hindenburg died and Hitler replaced him as the head of state and government. Hitler aimed to eliminate Jews from Germany and establish a New Order to counter what he saw as the injustice of the post-World War I international order dominated by Britain and France. His first six years in power resulted in rapid economic recovery from the Great Depression, the abrogation of restrictions imposed on Germany after World War I, and the annexation of territories inhabited by millions of ethnic Germans, which initially gave him significant popular support.  Hitler sought Lebensraum (lit. 'living space') for the German people in Eastern Europe, and his aggressive foreign policy is considered the primary cause of World War II in Europe. He directed large-scale rearmament and, on 1 September 1939, invaded Poland, resulting in Britain and France declaring war on Germany. In June 1941, Hitler ordered an invasion of the Soviet Union. In December 1941, he declared war on the United States. By the end of 1941, German forces and the European Axis powers occupied most of Europe and North Africa. These gains were gradually reversed after 1941, and in 1945 the Allied armies defeated the German army. On 29 April 1945, he married his longtime lover, Eva Braun, in the Führerbunker in Berlin. Less than two days later, the couple committed suicide to avoid capture by the Soviet Red Army. Their corpses were burned as Hitler had commanded.\n"
     ]
    }
   ],
   "source": [
    "print(text)"
   ]
  },
  {
   "cell_type": "code",
   "execution_count": 24,
   "id": "9108d0c5",
   "metadata": {},
   "outputs": [
    {
     "name": "stdout",
     "output_type": "stream",
     "text": [
      "His first six years in power resulted in rapid economic recovery from the Great Depression, the abrogation of restrictions imposed on Germany after World War I, and the annexation of territories inhabited by millions of ethnic Germans, which initially gave him significant popular support.   Adolf Hitler (German: [ˈadɔlf ˈhɪtlɐ] (listen); 20 April 1889 – 30 April 1945) was an Austrian-born German politician who was the dictator of Germany from 1933 until his suicide in 1945. The former chancellor Franz von Papen and other conservative leaders persuaded President Paul von Hindenburg to appoint Hitler as chancellor on 30 January 1933. After his early release in 1924, Hitler gained popular support by attacking the Treaty of Versailles and promoting pan-Germanism, anti-Semitism and anti-communism with charismatic oratory and Nazi propaganda. He was decorated during his service in the German Army in World War I. In 1919, he joined the German Workers' Party (DAP), the precursor of the Nazi Party, and was appointed leader of the Nazi Party in 1921.\n"
     ]
    }
   ],
   "source": [
    "print(summary)"
   ]
  },
  {
   "cell_type": "code",
   "execution_count": 25,
   "id": "dc30bd89",
   "metadata": {},
   "outputs": [
    {
     "data": {
      "text/plain": [
       "3610"
      ]
     },
     "execution_count": 25,
     "metadata": {},
     "output_type": "execute_result"
    }
   ],
   "source": [
    "len(text)"
   ]
  },
  {
   "cell_type": "code",
   "execution_count": 26,
   "id": "ab6ed377",
   "metadata": {},
   "outputs": [
    {
     "data": {
      "text/plain": [
       "1056"
      ]
     },
     "execution_count": 26,
     "metadata": {},
     "output_type": "execute_result"
    }
   ],
   "source": [
    "len(summary)"
   ]
  },
  {
   "cell_type": "code",
   "execution_count": 27,
   "id": "4f45b2c2",
   "metadata": {},
   "outputs": [
    {
     "data": {
      "text/plain": [
       "dict_keys(['Adolf', 'Hitler', 'German', 'ˈadɔlf', 'ˈhɪtlɐ', 'listen', '20', 'April', '1889', '–', '30', '1945', 'Austrian', 'born', 'politician', 'dictator', 'Germany', '1933', 'suicide', 'rose', 'power', 'leader', 'Nazi', 'Party,[a', 'chancellor', 'taking', 'title', 'Führer', 'und', 'Reichskanzler', '1934.[b', 'dictatorship', 'initiated', 'World', 'War', 'II', 'Europe', 'invading', 'Poland', '1', 'September', '1939', 'closely', 'involved', 'military', 'operations', 'war', 'central', 'perpetration', 'Holocaust', 'genocide', 'million', 'Jews', 'millions', 'victims', ' ', 'Braunau', 'Inn', 'Austria', 'Hungary', 'raised', 'near', 'Linz', 'lived', 'Vienna', 'later', 'decade', '1900s', 'moved', '1913', 'decorated', 'service', 'Army', 'I.', '1919', 'joined', 'Workers', 'Party', 'DAP', 'precursor', 'appointed', '1921', '1923', 'attempted', 'seize', 'governmental', 'failed', 'coup', 'Munich', 'imprisoned', 'sentence', 'years', 'jail', 'dictated', 'volume', 'autobiography', 'political', 'manifesto', 'Mein', 'Kampf', 'Struggle', 'early', 'release', '1924', 'gained', 'popular', 'support', 'attacking', 'Treaty', 'Versailles', 'promoting', 'pan', 'Germanism', 'anti', 'Semitism', 'communism', 'charismatic', 'oratory', 'propaganda', 'frequently', 'denounced', 'international', 'capitalism', 'Jewish', 'conspiracy', 'November', '1932', 'held', 'seats', 'Reichstag', 'majority', 'result', 'party', 'able', 'form', 'parliamentary', 'coalition', 'candidate', 'Franz', 'von', 'Papen', 'conservative', 'leaders', 'persuaded', 'President', 'Paul', 'Hindenburg', 'appoint', 'January', 'Shortly', 'passed', 'Enabling', 'Act', 'began', 'process', 'transforming', 'Weimar', 'Republic', 'based', 'totalitarian', 'autocratic', 'ideology', 'Nazism', '2', 'August', '1934', 'died', 'replaced', 'head', 'state', 'government', 'aimed', 'eliminate', 'establish', 'New', 'Order', 'counter', 'saw', 'injustice', 'post', 'order', 'dominated', 'Britain', 'France', 'resulted', 'rapid', 'economic', 'recovery', 'Great', 'Depression', 'abrogation', 'restrictions', 'imposed', 'annexation', 'territories', 'inhabited', 'ethnic', 'Germans', 'initially', 'gave', 'significant', 'sought', 'Lebensraum', 'lit', '\\u2009', 'living', 'space', 'people', 'Eastern', 'aggressive', 'foreign', 'policy', 'considered', 'primary', 'cause', 'directed', 'large', 'scale', 'rearmament', 'invaded', 'resulting', 'declaring', 'June', '1941', 'ordered', 'invasion', 'Soviet', 'Union', 'December', 'declared', 'United', 'States', 'end', 'forces', 'European', 'Axis', 'powers', 'occupied', 'North', 'Africa', 'gains', 'gradually', 'reversed', 'Allied', 'armies', 'defeated', 'army', '29', 'married', 'longtime', 'lover', 'Eva', 'Braun', 'Führerbunker', 'Berlin', 'days', 'couple', 'committed', 'avoid', 'capture', 'Red', 'corpses', 'burned', 'commanded'])"
      ]
     },
     "execution_count": 27,
     "metadata": {},
     "output_type": "execute_result"
    }
   ],
   "source": [
    "word_frequencies.keys()"
   ]
  },
  {
   "cell_type": "code",
   "execution_count": null,
   "id": "2e6b5287",
   "metadata": {},
   "outputs": [],
   "source": []
  },
  {
   "cell_type": "code",
   "execution_count": null,
   "id": "a600aa7e",
   "metadata": {},
   "outputs": [],
   "source": []
  },
  {
   "cell_type": "code",
   "execution_count": null,
   "id": "8d60a6f0",
   "metadata": {},
   "outputs": [],
   "source": []
  }
 ],
 "metadata": {
  "kernelspec": {
   "display_name": "Python 3 (ipykernel)",
   "language": "python",
   "name": "python3"
  },
  "language_info": {
   "codemirror_mode": {
    "name": "ipython",
    "version": 3
   },
   "file_extension": ".py",
   "mimetype": "text/x-python",
   "name": "python",
   "nbconvert_exporter": "python",
   "pygments_lexer": "ipython3",
   "version": "3.9.16"
  }
 },
 "nbformat": 4,
 "nbformat_minor": 5
}
